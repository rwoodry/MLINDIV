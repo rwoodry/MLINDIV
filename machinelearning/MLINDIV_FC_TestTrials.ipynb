{
 "cells": [
  {
   "cell_type": "markdown",
   "metadata": {},
   "source": [
    "#  Functional Connectivity Trial-by-Trial Classifier\n",
    "### Given the functional connectivity of a subject during a specific trial, can we predict the Subject's trial accuracy? \n",
    "Here we extract ROI timeseries as from each time window that encapsualtes the fMRI bold data from a specific trial. For a full set of test runs, this should yield 48 ROI Timeseries of varying length (dependent on how long each trial took to complete). For each ROI Timeseries we compute a functional connectivity matrix, called a 'connectome' using various kinds of funcitonal connectivity metrics. We then feed the Trial-by-Trial Connectomes and their respective trial accuracy labels (0 for incorrect or 1 for correct) into a Support Vector Machine Classifier with a linear kernel. We hold out some of the data for cross validation and test this model over several randomized cross-validation splits. We test the model classifier for each functional connectivity metric for each cross-validation split, and plot their average performance."
   ]
  },
  {
   "cell_type": "markdown",
   "metadata": {},
   "source": [
    "## Load Dependencies"
   ]
  },
  {
   "cell_type": "code",
   "execution_count": 1,
   "metadata": {},
   "outputs": [],
   "source": [
    "import nilearn\n",
    "from nilearn import datasets\n",
    "from nilearn.input_data import NiftiLabelsMasker\n",
    "from nilearn.connectome import ConnectivityMeasure\n",
    "from nilearn import plotting\n",
    "import nibabel as nib\n",
    "import numpy as np\n",
    "import pandas\n",
    "import os\n",
    "import glob\n",
    "from sklearn.svm import LinearSVC\n",
    "from sklearn.metrics import accuracy_score\n",
    "from sklearn.model_selection import StratifiedShuffleSplit\n",
    "from nilearn import plotting\n",
    "from matplotlib import pyplot as plt"
   ]
  },
  {
   "cell_type": "markdown",
   "metadata": {},
   "source": [
    "## Define 'Helper' Functions\n",
    "The following functions are used to help with preprocessing the Functional Bold data into the Time-Windowed ROI Timeseries with respective accuracy labels. This serves as the model's X and Y values, respectively."
   ]
  },
  {
   "cell_type": "markdown",
   "metadata": {},
   "source": [
    "### Create Trial Labels\n",
    "From behavioral data, create a pandas data frame containing accuracy labels and respective run names (1-6)"
   ]
  },
  {
   "cell_type": "code",
   "execution_count": 2,
   "metadata": {},
   "outputs": [],
   "source": [
    "def create_trial_labels(subjectnum, sync_pulses, test_trials):\n",
    "    # Filter by subject\n",
    "    test_labels = test_trials[test_trials['Subject'] == subjectnum].copy()\n",
    "    \n",
    "    # Initialize Pandas data series for Start and End TRs, as well as for fmri_run number\n",
    "    start_TR = pandas.Series(dtype = 'float32')\n",
    "    end_TR = pandas.Series(dtype = 'float32')\n",
    "    fmri_run = pandas.Series(dtype = 'float32')\n",
    "    \n",
    "    # Get order of task type for labeling wich fmri run each entry corresponds too\n",
    "    time_indices = np.unique(test_labels['times'], return_index = True)[1]\n",
    "    task_order = []\n",
    "    [task_order.append(test_labels.iloc[[i]]['Task_type'].to_string().split()[1]) for i in time_indices]\n",
    "    \n",
    "\n",
    "    \n",
    "    \n",
    "    for i in sync_pulses.index:\n",
    "\n",
    "        data = test_labels[test_labels['Task_type'] == sync_pulses.trial_type[i]].copy()\n",
    "\n",
    "        trial_times = np.unique\n",
    "        start_tr = np.floor((data[\"trial_starttime\"].copy() - sync_pulses.getready_response[i]) / 720).astype(int)\n",
    "        end_tr = np.floor((data[\"trial_endtime\"].copy() - sync_pulses.getready_response[i]) / 720).astype(int)\n",
    "        run_num = task_order.index(sync_pulses.trial_type[i])\n",
    "\n",
    "\n",
    "        start_TR = pandas.concat([start_TR, pandas.Series(start_tr)])\n",
    "        end_TR = pandas.concat([end_TR, pandas.Series(end_tr)])\n",
    "        \n",
    "        if run_num > 1:\n",
    "            run_num = 'Run' + str(run_num - 1)\n",
    "        elif run_num == 1:\n",
    "            run_num = 'Ex2' \n",
    "        else:\n",
    "            run_num = 'Ex'\n",
    "        fmri_run = pandas.concat([fmri_run, pandas.Series([run_num] * len(end_tr))])\n",
    "        \n",
    "        \n",
    "        \n",
    "        \n",
    "    test_labels = test_labels[['Subject', 'Task_type', 'trial_starttime', 'trial_endtime', 'accuracy']]\n",
    "    \n",
    "    test_labels['start_TR'] = start_TR.values\n",
    "    test_labels['end_TR'] = end_TR.values\n",
    "    test_labels['fmri_run'] = fmri_run.values\n",
    "\n",
    "    \n",
    "    return test_labels, task_order"
   ]
  },
  {
   "cell_type": "markdown",
   "metadata": {},
   "source": [
    "### Extract ROI Timeseries\n",
    "Given a funcitonal scan and atlas ROI map, extract bold signal into ROI time series. Smooth and standardize the signal."
   ]
  },
  {
   "cell_type": "code",
   "execution_count": 3,
   "metadata": {},
   "outputs": [],
   "source": [
    "def subject_timeseries(mlindiv_filename, confounds_filename, atlas_filename):\n",
    "    \n",
    "    # Load fmri volumes\n",
    "    func_img = nib.load(mlindiv_filename)\n",
    "    header_zooms = func_img.header.get_zooms()\n",
    "    TR = header_zooms[3]\n",
    "\n",
    "    pandas.read_csv(confounds_filename, sep = '\\t').fillna(0).to_csv(\"conf_nona_temp.tsv\", sep = '\\t', index = False)\n",
    "\n",
    "    print('Atlas ROIs are located in nifti image (4D) at: %s' % atlas_filename)\n",
    "    print('Func images are located in nifti image (4D) at: %s \\n\\t--- Confounds at: %s' % (mlindiv_filename, confounds_filename))\n",
    "    print('Func images Voxel Dimensions (mm): %s\\tFunc TR: %s' % (header_zooms[0:3], header_zooms[3]))\n",
    "\n",
    "    # Create a masker from the HO atlas\n",
    "    masker = NiftiLabelsMasker(\n",
    "        labels_img = atlas_filename, \n",
    "        standardize=True, \n",
    "        memory = 'nilearn_cache', \n",
    "        verbose = 5, low_pass=0.08, high_pass=0.009, detrend=True, t_r = TR)\n",
    "\n",
    "\n",
    "    # Create an overall time series for the run\n",
    "    time_series = masker.fit_transform(mlindiv_filename, confounds = 'conf_nona_temp.tsv')\n",
    "    \n",
    "    return time_series\n"
   ]
  },
  {
   "cell_type": "markdown",
   "metadata": {},
   "source": [
    "### Create Trial-by-Trial ROI Timeseries\n",
    "Given an ROI Timeseries from a signle scan, bin timeseries into timewindows bounded by the begin and end trial times for each trial during that scan run. Thus, we take an ROI time series from a signle run and split it into 8 separate ROI time series corresponding to the 8 individual trials for that scan run.\n"
   ]
  },
  {
   "cell_type": "code",
   "execution_count": 4,
   "metadata": {},
   "outputs": [],
   "source": [
    "def timewindows(timeseries, trial_labels, task_label, start_padding = 0, end_padding = 0):\n",
    "    t_labels = trial_labels[trial_labels['Task_type'] == task_label]\n",
    "    \n",
    "    time_window_num = t_labels.shape[0]\n",
    "\n",
    "    \n",
    "    time_windows = []\n",
    "\n",
    "    for i in range(time_window_num):\n",
    "        \n",
    "        start_TR = t_labels.start_TR.iloc[i] + start_padding\n",
    "        end_TR = t_labels.end_TR.iloc[i] + end_padding\n",
    "        \n",
    "        time_window = timeseries[start_TR:end_TR, :]\n",
    "        time_windows.append(time_window)\n",
    "        \n",
    "    return time_windows"
   ]
  },
  {
   "cell_type": "markdown",
   "metadata": {},
   "source": [
    "### Aggregate Trial-by-Trial ROI Timeseries\n",
    "For each scan run, use the previously defined functions to aggregate all Trial-by-Trial ROI Timeseries into one dictionary where each key is the Task label / Scan of Origin (i.e. 'A2' or 'C5') and its values are a list of that scan's Trial-by-Trial ROI Timeseries."
   ]
  },
  {
   "cell_type": "code",
   "execution_count": 5,
   "metadata": {},
   "outputs": [],
   "source": [
    "def aggregate_timewindows(subject, func_directory, confounds_directory, trial_labels, atlas_filename, start_padding = 0, end_padding = 0):\n",
    "    \n",
    "    # Define list of files to be processed, given subject number and location of functional files.\n",
    "    directory_path = \"%s/sub-%s\" % (func_directory, subject)\n",
    "    trial_filenames = os.listdir(directory_path)\n",
    "    print(\"Functional Images for Subject %s stored in %s\" % (subject, directory_path))\n",
    "    print(\"Functional files to be processed: \" + str(trial_filenames))\n",
    "    \n",
    "    # Initialize empty Dictionary of Windowed - Time Series\n",
    "    dict_timewindows = {}\n",
    "    \n",
    "    for run in trial_filenames:\n",
    "        # Grab task label from matching the func run number to trial labels.\n",
    "        run_name = run.split(\"bold\")[1].split(\"_\")[0]\n",
    "        task_label = np.unique(trial_labels[trial_labels['fmri_run'] == run_name].Task_type)[0]\n",
    "        print(\"Computing ROI Time Series for %s: %s\" % (run_name, task_label))\n",
    "        \n",
    "        # Get path to func file and corresponding confounds file\n",
    "        mlindiv_filename = directory_path+ '/' + run\n",
    "        confounds_filename = glob.glob(\"%s/*%s*%s_*.tsv\" % (confounds_directory, subject, run_name))[0]\n",
    "        \n",
    "        # Compute time series for func run\n",
    "        time_series = subject_timeseries(mlindiv_filename, confounds_filename, atlas_filename)\n",
    "        \n",
    "        # Split time series into list time windows\n",
    "        time_windows = timewindows(time_series, trial_labels, task_label, start_padding, end_padding)\n",
    "        \n",
    "        # For current Run, assign the list of time windows obtained from the previous line\n",
    "        dict_timewindows[task_label] = time_windows\n",
    "    \n",
    "    return dict_timewindows"
   ]
  },
  {
   "cell_type": "markdown",
   "metadata": {},
   "source": [
    "### Model the SVM Classifier\n",
    "Using the trial-by-trial ROI timeseries, compute their functional connectomes and fit the trial accuracy for each trial to its connectome. This is done over several cross-validation splits and using different kinds of functional connectivity measures to fit the model. If plot_scores is set to True, plot the average performance for each model (by functional connectivity measure used). The default functional connectivity measures to use are: \n",
    "- Correlation\n",
    "- Partial Correlation\n",
    "- Tangent\n",
    "- Covariance\n",
    "- Precision"
   ]
  },
  {
   "cell_type": "code",
   "execution_count": 6,
   "metadata": {},
   "outputs": [],
   "source": [
    "def model_connectome(ts_list, ts_labels, C = 1, n_splits = 10, fconn_types = ['correlation', 'partial correlation', 'tangent', 'covariance', 'precision'], plot_scores = True):\n",
    "    # If ts_list | ts_labels are a dictionary, collapse them into a list\n",
    "    if type(ts_labels) == dict:\n",
    "        ts_list = list(ts_list.values())[0]\n",
    "        ts_labels = list(ts_labels.values())[0]\n",
    "        \n",
    "    # Define and run the Model\n",
    "    _, classes = np.unique(ts_labels, return_inverse=True)  # Convert accuracy into numpy array of binary labels\n",
    "    ts_array = np.asarray(ts_list) # Convert list of time series into a numpy array of time series\n",
    "\n",
    "    # Define correlation types\n",
    "    kinds = fconn_types\n",
    "    _, classes = np.unique(ts_labels, return_inverse=True)\n",
    "    cv = StratifiedShuffleSplit(n_splits=n_splits, random_state=0, test_size=0.3)\n",
    "    ts_array = np.asarray(ts_list)\n",
    "\n",
    "    scores = {}\n",
    "\n",
    "    for kind in kinds:\n",
    "        scores[kind] = []\n",
    "        for train, test in cv.split(ts_array, classes):\n",
    "            connectivity = ConnectivityMeasure(kind = kind, vectorize = True) # We vectorize the Functional Connectivity, so it is easier to run the SVC classifier on\n",
    "            connectomes = connectivity.fit_transform(ts_array[train])\n",
    "\n",
    "            classifier = LinearSVC(C = C).fit(connectomes, classes[train])\n",
    "            predictions = classifier.predict(connectivity.transform(ts_array[test]))\n",
    "            scores[kind].append(accuracy_score(classes[test], predictions))\n",
    "    \n",
    "    if plot_scores:\n",
    "        mean_scores = [np.mean(scores[kind]) for kind in kinds]\n",
    "        scores_std = [np.std(scores[kind]) for kind in kinds]\n",
    "    \n",
    "        plt.figure(figsize=(6, 4))\n",
    "        positions = np.arange(len(kinds)) * .1 + .1\n",
    "        plt.barh(positions, mean_scores, align='center', height=.05, xerr=scores_std)\n",
    "        yticks = [k.replace(' ', '\\n') for k in kinds]\n",
    "        plt.yticks(positions, yticks)\n",
    "        plt.gca().grid(True)\n",
    "        plt.gca().set_axisbelow(True)\n",
    "        plt.gca().axvline(.7, color='red', linestyle='--')\n",
    "        plt.xlabel('Classification accuracy\\n(red line = chance level)')\n",
    "        plt.tight_layout()\n",
    "\n",
    "    return(scores)"
   ]
  },
  {
   "cell_type": "markdown",
   "metadata": {},
   "source": [
    "### Create Dictionary of Subjects and their Trial-by-Trial ROI Timeseries with Accuracy Labels\n",
    "Using the helper functions defined above, for any given list of subjects and the correct directories for reading in certain files:\n",
    "- create a dictionary of subjects as keys with ROI Timeseries as values \n",
    "- create a dictionary of subjects as keys with accuracy labels as values"
   ]
  },
  {
   "cell_type": "code",
   "execution_count": 7,
   "metadata": {},
   "outputs": [],
   "source": [
    "def subject_timeseries_labels(sub_num_list, behav_directory, func_directory, confounds_directory, sync_pulses_directory, atlas_filename):\n",
    "    '''\n",
    "    This function takes a list of subject numbers and runs through several helper functions iterating over each subject\n",
    "    to output a dictionary of subject - timeseries pairs (X) and a dictionary of subject - labels pairs (Y) to be run through any model.\n",
    "        Requirements:\n",
    "            - A behavioral directory containing the trial master.csv\n",
    "            - a func directory pointing to the functional files to be used. Make sure there are no duplicate runs\n",
    "            - a confoudns directory contianing only conformatted .tsv files (refer to R script conformat)\n",
    "            - a directory containing syncpulse.csv files for each subject\n",
    "    It takes roughly 45 secs to extract and properly label each ROI time series per Test Scan. So for scans looking at 6 runs it can take a little under 4 min to fully run. \n",
    "    It does store extractions in a cache, however, so when rerun using previously run subjects it should be a lot quicker.\n",
    "    '''\n",
    "    # Read in trial data\n",
    "    test_trials = pandas.read_csv('%s/MLINDIV_trial_master.csv' % behav_directory)\n",
    "    \n",
    "    subject_timeseries = {}\n",
    "    subject_labels = {}\n",
    "    \n",
    "    # Loop through each subject's and create ROI timeseries for each trial\n",
    "    for sub_num in sub_num_list:\n",
    "        # Read in the sync_pulse start time data\n",
    "        sync_pulses = pandas.read_csv('%s/sub-%s_syncpulses.csv' % (sync_pulses_directory, sub_num))\n",
    "        \n",
    "        # Create trial labels for the subject, using the sync pulse trial start time info\n",
    "        trial_labels, _ = create_trial_labels(int(sub_num), sync_pulses, test_trials)\n",
    "        \n",
    "        # Extract ROI time series into a trial dictionary (keys = Run name, values = list of ROI time series for that run) for each trial timewindow defined by the trial labels\n",
    "        sub_TW = aggregate_timewindows(sub_num, func_directory, confounds_directory, trial_labels, atlas_filename)\n",
    "        \n",
    "        ts_list = []\n",
    "        ts_labels = []\n",
    "        \n",
    "        # Iterate through Subject's Trial dictionary, creating a List of timeseries (ts_list) and a list of accuracy labels for those timeseries irrespective of run type\n",
    "        for tasktype in sub_TW.keys():\n",
    "            if not tasktype.isnumeric():      \n",
    "                acc = list(trial_labels[trial_labels['Task_type'] == tasktype]['accuracy'])\n",
    "                [ts_labels.append(value) for value in acc]\n",
    "                for ts in sub_TW[tasktype]:\n",
    "                    ts_list.append(ts)   \n",
    "                    \n",
    "        subject_timeseries[sub_num] = ts_list\n",
    "        subject_labels[sub_num] = ts_labels\n",
    "        \n",
    "        return subject_timeseries, subject_labels\n",
    "\n",
    "        "
   ]
  },
  {
   "cell_type": "markdown",
   "metadata": {},
   "source": [
    "### Create X and Y Dictionaries\n",
    "First define what atlas to extract ROIs into. Then create dictionaries of extracted & binned ROI timeseries that will be fed into the SVM model. "
   ]
  },
  {
   "cell_type": "code",
   "execution_count": 8,
   "metadata": {},
   "outputs": [
    {
     "name": "stdout",
     "output_type": "stream",
     "text": [
      "Functional Images for Subject 043 stored in D:/SampleData/func/sub-043\n",
      "Functional files to be processed: ['sub-043_task-boldEx_run-1_space-MNI152NLin2009cAsym_desc-preproc_bold.nii.gz', 'sub-043_task-boldRun1_run-1_space-MNI152NLin2009cAsym_desc-preproc_bold.nii.gz', 'sub-043_task-boldRun2_run-1_space-MNI152NLin2009cAsym_desc-preproc_bold.nii.gz', 'sub-043_task-boldRun3_run-1_space-MNI152NLin2009cAsym_desc-preproc_bold.nii.gz', 'sub-043_task-boldRun4_run-2_space-MNI152NLin2009cAsym_desc-preproc_bold.nii.gz', 'sub-043_task-boldRun5_run-1_space-MNI152NLin2009cAsym_desc-preproc_bold.nii.gz', 'sub-043_task-boldRun6_run-1_space-MNI152NLin2009cAsym_desc-preproc_bold.nii.gz']\n",
      "Computing ROI Time Series for Ex: 1\n",
      "Atlas ROIs are located in nifti image (4D) at: C:\\Users\\17868/nilearn_data\\fsl\\data\\atlases\\HarvardOxford\\HarvardOxford-sub-maxprob-thr25-2mm.nii.gz\n",
      "Func images are located in nifti image (4D) at: D:/SampleData/func/sub-043/sub-043_task-boldEx_run-1_space-MNI152NLin2009cAsym_desc-preproc_bold.nii.gz \n",
      "\t--- Confounds at: D:/SampleData/confounds\\sub-043_task-boldEx_run-1_conformatted.tsv\n",
      "Func images Voxel Dimensions (mm): (2.0, 2.0, 2.0)\tFunc TR: 0.72\n",
      "[NiftiLabelsMasker.fit_transform] loading data from C:\\Users\\17868/nilearn_data\\fsl\\data\\atlases\\HarvardOxford\\HarvardOxford-sub-maxprob-thr25-2mm.nii.gz\n",
      "Resampling labels\n",
      "[Memory]0.7s, 0.0min    : Loading filter_and_extract...\n",
      "__________________________________filter_and_extract cache loaded - 0.0s, 0.0min\n",
      "Computing ROI Time Series for Run1: A5\n",
      "Atlas ROIs are located in nifti image (4D) at: C:\\Users\\17868/nilearn_data\\fsl\\data\\atlases\\HarvardOxford\\HarvardOxford-sub-maxprob-thr25-2mm.nii.gz\n",
      "Func images are located in nifti image (4D) at: D:/SampleData/func/sub-043/sub-043_task-boldRun1_run-1_space-MNI152NLin2009cAsym_desc-preproc_bold.nii.gz \n",
      "\t--- Confounds at: D:/SampleData/confounds\\sub-043_task-boldRun1_run-1_conformatted.tsv\n",
      "Func images Voxel Dimensions (mm): (2.0, 2.0, 2.0)\tFunc TR: 0.72\n",
      "[NiftiLabelsMasker.fit_transform] loading data from C:\\Users\\17868/nilearn_data\\fsl\\data\\atlases\\HarvardOxford\\HarvardOxford-sub-maxprob-thr25-2mm.nii.gz\n",
      "Resampling labels\n",
      "[Memory]0.4s, 0.0min    : Loading filter_and_extract...\n",
      "__________________________________filter_and_extract cache loaded - 0.0s, 0.0min\n",
      "Computing ROI Time Series for Run2: A6\n",
      "Atlas ROIs are located in nifti image (4D) at: C:\\Users\\17868/nilearn_data\\fsl\\data\\atlases\\HarvardOxford\\HarvardOxford-sub-maxprob-thr25-2mm.nii.gz\n",
      "Func images are located in nifti image (4D) at: D:/SampleData/func/sub-043/sub-043_task-boldRun2_run-1_space-MNI152NLin2009cAsym_desc-preproc_bold.nii.gz \n",
      "\t--- Confounds at: D:/SampleData/confounds\\sub-043_task-boldRun2_run-1_conformatted.tsv\n",
      "Func images Voxel Dimensions (mm): (2.0, 2.0, 2.0)\tFunc TR: 0.72\n",
      "[NiftiLabelsMasker.fit_transform] loading data from C:\\Users\\17868/nilearn_data\\fsl\\data\\atlases\\HarvardOxford\\HarvardOxford-sub-maxprob-thr25-2mm.nii.gz\n",
      "Resampling labels\n",
      "[Memory]0.3s, 0.0min    : Loading filter_and_extract...\n",
      "__________________________________filter_and_extract cache loaded - 0.0s, 0.0min\n",
      "Computing ROI Time Series for Run3: A4\n",
      "Atlas ROIs are located in nifti image (4D) at: C:\\Users\\17868/nilearn_data\\fsl\\data\\atlases\\HarvardOxford\\HarvardOxford-sub-maxprob-thr25-2mm.nii.gz\n",
      "Func images are located in nifti image (4D) at: D:/SampleData/func/sub-043/sub-043_task-boldRun3_run-1_space-MNI152NLin2009cAsym_desc-preproc_bold.nii.gz \n",
      "\t--- Confounds at: D:/SampleData/confounds\\sub-043_task-boldRun3_run-1_conformatted.tsv\n",
      "Func images Voxel Dimensions (mm): (2.0, 2.0, 2.0)\tFunc TR: 0.72\n",
      "[NiftiLabelsMasker.fit_transform] loading data from C:\\Users\\17868/nilearn_data\\fsl\\data\\atlases\\HarvardOxford\\HarvardOxford-sub-maxprob-thr25-2mm.nii.gz\n",
      "Resampling labels\n",
      "[Memory]0.3s, 0.0min    : Loading filter_and_extract...\n",
      "__________________________________filter_and_extract cache loaded - 0.0s, 0.0min\n",
      "Computing ROI Time Series for Run4: A1\n",
      "Atlas ROIs are located in nifti image (4D) at: C:\\Users\\17868/nilearn_data\\fsl\\data\\atlases\\HarvardOxford\\HarvardOxford-sub-maxprob-thr25-2mm.nii.gz\n",
      "Func images are located in nifti image (4D) at: D:/SampleData/func/sub-043/sub-043_task-boldRun4_run-2_space-MNI152NLin2009cAsym_desc-preproc_bold.nii.gz \n",
      "\t--- Confounds at: D:/SampleData/confounds\\sub-043_task-boldRun4_run-2_conformatted.tsv\n",
      "Func images Voxel Dimensions (mm): (2.0, 2.0, 2.0)\tFunc TR: 0.72\n",
      "[NiftiLabelsMasker.fit_transform] loading data from C:\\Users\\17868/nilearn_data\\fsl\\data\\atlases\\HarvardOxford\\HarvardOxford-sub-maxprob-thr25-2mm.nii.gz\n",
      "Resampling labels\n",
      "[Memory]0.3s, 0.0min    : Loading filter_and_extract...\n",
      "__________________________________filter_and_extract cache loaded - 0.0s, 0.0min\n",
      "Computing ROI Time Series for Run5: A2\n",
      "Atlas ROIs are located in nifti image (4D) at: C:\\Users\\17868/nilearn_data\\fsl\\data\\atlases\\HarvardOxford\\HarvardOxford-sub-maxprob-thr25-2mm.nii.gz\n",
      "Func images are located in nifti image (4D) at: D:/SampleData/func/sub-043/sub-043_task-boldRun5_run-1_space-MNI152NLin2009cAsym_desc-preproc_bold.nii.gz \n",
      "\t--- Confounds at: D:/SampleData/confounds\\sub-043_task-boldRun5_run-1_conformatted.tsv\n",
      "Func images Voxel Dimensions (mm): (2.0, 2.0, 2.0)\tFunc TR: 0.72\n",
      "[NiftiLabelsMasker.fit_transform] loading data from C:\\Users\\17868/nilearn_data\\fsl\\data\\atlases\\HarvardOxford\\HarvardOxford-sub-maxprob-thr25-2mm.nii.gz\n",
      "Resampling labels\n",
      "[Memory]0.3s, 0.0min    : Loading filter_and_extract...\n",
      "__________________________________filter_and_extract cache loaded - 0.0s, 0.0min\n",
      "Computing ROI Time Series for Run6: A3\n",
      "Atlas ROIs are located in nifti image (4D) at: C:\\Users\\17868/nilearn_data\\fsl\\data\\atlases\\HarvardOxford\\HarvardOxford-sub-maxprob-thr25-2mm.nii.gz\n",
      "Func images are located in nifti image (4D) at: D:/SampleData/func/sub-043/sub-043_task-boldRun6_run-1_space-MNI152NLin2009cAsym_desc-preproc_bold.nii.gz \n",
      "\t--- Confounds at: D:/SampleData/confounds\\sub-043_task-boldRun6_run-1_conformatted.tsv\n",
      "Func images Voxel Dimensions (mm): (2.0, 2.0, 2.0)\tFunc TR: 0.72\n",
      "[NiftiLabelsMasker.fit_transform] loading data from C:\\Users\\17868/nilearn_data\\fsl\\data\\atlases\\HarvardOxford\\HarvardOxford-sub-maxprob-thr25-2mm.nii.gz\n",
      "Resampling labels\n",
      "[Memory]0.3s, 0.0min    : Loading filter_and_extract...\n",
      "__________________________________filter_and_extract cache loaded - 0.0s, 0.0min\n"
     ]
    }
   ],
   "source": [
    "\n",
    "dataset = datasets.fetch_atlas_harvard_oxford('sub-maxprob-thr25-2mm')\n",
    "atlas_filename = dataset.maps\n",
    "labels = dataset.labels\n",
    "\n",
    "\n",
    "sub_X_dict, sub_Y_dict = subject_timeseries_labels(sub_num_list = ['043'], \n",
    "                                                   behav_directory = 'D:/SampleData',\n",
    "                                                   func_directory = 'D:/SampleData/func',\n",
    "                                                   confounds_directory = 'D:/SampleData/confounds',\n",
    "                                                   sync_pulses_directory = 'D:/SampleData',\n",
    "                                                   atlas_filename = atlas_filename\n",
    "                                                  )"
   ]
  },
  {
   "cell_type": "markdown",
   "metadata": {},
   "source": [
    "### Run the Model\n",
    "Using the X and Y dictionaries, compute several iterations of the SVM model and store the scores for average model performance (for each functional connectivity measure used). Plot the scores if plot_scores is set to True (default)."
   ]
  },
  {
   "cell_type": "code",
   "execution_count": 9,
   "metadata": {},
   "outputs": [
    {
     "data": {
      "image/png": "[encoded data removed]",
      "text/plain": [
       "<Figure size 432x288 with 1 Axes>"
      ]
     },
     "metadata": {
      "needs_background": "light"
     },
     "output_type": "display_data"
    }
   ],
   "source": [
    "scores = model_connectome(sub_X_dict['043'], sub_Y_dict['043'], C = 0.005, n_splits = 50)\n"
   ]
  },
  {
   "cell_type": "code",
   "execution_count": 10,
   "metadata": {},
   "outputs": [
    {
     "data": {
      "text/plain": [
       "33"
      ]
     },
     "execution_count": 10,
     "metadata": {},
     "output_type": "execute_result"
    }
   ],
   "source": [
    "int(48 * .7)"
   ]
  },
  {
   "cell_type": "markdown",
   "metadata": {},
   "source": [
    "Above we see that even when training on a small number of trial connectomes (70% of 48 trials (rounded down) = 33 trials to train on), some models perform slightly better than chance. Will the model improve given more training data (using multiple subjects)? Some things that could improve the model:\n",
    "   - More training trials (i.e. use more subjects)\n",
    "   - Use a Cortical atlas & Subcortical Atlas for more ROIs across the whole brain\n",
    "   - OR Use Dictionary Learning on MLINDIV subjects Resting State fMRI to build an experiment specific functional ROI Atlas\n",
    "   - Binarize the connectomes according to some threshold (i.e. top 20% of conenctions). This might help the model learn faster as well as serve as some form of regularization, as it creates sparsity across features.\n",
    "   - Test alternate time window sizes. Shift time windows 6+ TRs to capture HRF delay, or widen windows so that each time window is of the same duration centered at the midpoint of trial runtime.\n",
    "   - Try different Model Classifiers: Logistic Regression, SVM with a Gaussian Kernel, etc.\n",
    "   - MAYBE: Try Deep Learning Model architectures: Fully Connected Layers, Sequence to Sequence RNNs, Unidirectional LSTM, Bidirectional LSTM, A Combination of Several of these.\n",
    "\n",
    "If Succesful:\n",
    "- Move on to Regression Models to predict Subject Performance\n",
    "- Use Dynamic Functional Connectivity\n",
    "- Use DNNs, etc."
   ]
  },
  {
   "cell_type": "code",
   "execution_count": null,
   "metadata": {},
   "outputs": [],
   "source": []
  }
 ],
 "metadata": {
  "kernelspec": {
   "display_name": "Python 3",
   "language": "python",
   "name": "python3"
  },
  "language_info": {
   "codemirror_mode": {
    "name": "ipython",
    "version": 3
   },
   "file_extension": ".py",
   "mimetype": "text/x-python",
   "name": "python",
   "nbconvert_exporter": "python",
   "pygments_lexer": "ipython3",
   "version": "3.8.3"
  }
 },
 "nbformat": 4,
 "nbformat_minor": 4
}
